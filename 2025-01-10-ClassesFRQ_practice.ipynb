{
 "cells": [
  {
   "cell_type": "markdown",
   "metadata": {},
   "source": [
    "---\n",
    "layout: post\n",
    "toc: true\n",
    "title: FRQ Teaching | Classes | Practice\n",
    "description: Lesson for class FRQs\n",
    "categories: [AP CSA]\n",
    "menu: nav/FRQ_teach/p1-classes.html\n",
    "author: Ian Wu, Trevor Huang, Alisha Hussain\n",
    "permalink: /csa/p1-frq-classes/homework\n",
    "---"
   ]
  },
  {
   "cell_type": "markdown",
   "metadata": {
    "vscode": {
     "languageId": "java"
    }
   },
   "source": [
    "# Homework\n",
    "Your homework is to submit do question 2 of the [2021 FRQ](https://apcentral.collegeboard.org/media/pdf/ap21-frq-computer-science-a.pdf). Please submit your original answer to the FRQ and your score and then your corrections. This is graded based on your reflection, so give yourself an honest chance at seeing where you are at in classes!"
   ]
  },
  {
   "cell_type": "code",
   "execution_count": 14,
   "metadata": {
    "vscode": {
     "languageId": "java"
    }
   },
   "outputs": [
    {
     "name": "stdout",
     "output_type": "stream",
     "text": [
      "true\n",
      "false\n",
      "65.0\n",
      "true\n",
      "62.5\n"
     ]
    },
    {
     "data": {
      "text/plain": [
       "67.5"
      ]
     },
     "execution_count": 14,
     "metadata": {},
     "output_type": "execute_result"
    }
   ],
   "source": [
    "public class SingleTable {\n",
    "\n",
    "    private int numSeats;\n",
    "    private int height;\n",
    "    private double viewQuality;\n",
    "\n",
    "    public SingleTable(int numSeats, int height, double viewQuality) {\n",
    "        if (numSeats < 4) {\n",
    "            this.numSeats = 4;\n",
    "        } else {\n",
    "            this.numSeats = numSeats;\n",
    "        }\n",
    "        this.height = height;\n",
    "        this.viewQuality = viewQuality;\n",
    "    }\n",
    "\n",
    "    public int getNumSeats() {\n",
    "        return numSeats;\n",
    "    }\n",
    "\n",
    "    public int getHeight() {\n",
    "        return height;\n",
    "    }\n",
    "\n",
    "    public double getViewQuality() {\n",
    "        return viewQuality;\n",
    "    }\n",
    "\n",
    "    public void setViewQuality(double value) {\n",
    "        this.viewQuality = value;\n",
    "    }\n",
    "}\n",
    "\n",
    "public class CombinedTable {\n",
    "\n",
    "    private int numSeats;\n",
    "    private double desirability;\n",
    "    private SingleTable table1;\n",
    "    private SingleTable table2;\n",
    "\n",
    "    public CombinedTable(SingleTable table1, SingleTable table2) {\n",
    "        this.table1 = table1;\n",
    "        this.table2 = table2;\n",
    "        this.numSeats = table1.getNumSeats() + table2.getNumSeats() - 2;\n",
    "\n",
    "        if (table1.getHeight() == table2.getHeight()) {\n",
    "            this.desirability = (table1.getViewQuality() + table2.getViewQuality()) / 2;\n",
    "        } else {\n",
    "            this.desirability = ((table1.getViewQuality() + table2.getViewQuality()) / 2) - 10;\n",
    "        }\n",
    "    }\n",
    "\n",
    "    public int getNumSeats() {\n",
    "        return numSeats;\n",
    "    }\n",
    "\n",
    "    public double getDesirability() {\n",
    "        if (table1.getHeight() == table2.getHeight()) {\n",
    "            this.desirability = (table1.getViewQuality() + table2.getViewQuality()) / 2;\n",
    "        } else {\n",
    "            this.desirability = ((table1.getViewQuality() + table2.getViewQuality()) / 2) - 10;\n",
    "        }\n",
    "        return desirability;\n",
    "    }\n",
    "\n",
    "    public boolean canSeat(int num) {\n",
    "        return numSeats >= num;\n",
    "    }\n",
    "}\n",
    "\n",
    "\n",
    "SingleTable t1 = new SingleTable(4, 74, 60);\n",
    "SingleTable t2 = new SingleTable(8, 74, 70);\n",
    "SingleTable t3 = new SingleTable(12, 76, 75);\n",
    "\n",
    "CombinedTable c1 = new CombinedTable(t1, t2);\n",
    "System.out.println(c1.canSeat(9));\n",
    "System.out.println(c1.canSeat(11));\n",
    "System.out.println(c1.getDesirability());\n",
    "CombinedTable c2 = new CombinedTable(t2, t3);\n",
    "System.out.println(c2.canSeat(18));\n",
    "System.out.println(c2.getDesirability());\n",
    "t2.setViewQuality(80);\n",
    "c2.getDesirability();\n"
   ]
  },
  {
   "cell_type": "code",
   "execution_count": null,
   "metadata": {
    "vscode": {
     "languageId": "java"
    }
   },
   "outputs": [],
   "source": []
  }
 ],
 "metadata": {
  "kernelspec": {
   "display_name": "Java",
   "language": "java",
   "name": "java"
  },
  "language_info": {
   "codemirror_mode": "java",
   "file_extension": ".jshell",
   "mimetype": "text/x-java-source",
   "name": "Java",
   "pygments_lexer": "java",
   "version": "17.0.12+7-Ubuntu-1ubuntu222.04"
  }
 },
 "nbformat": 4,
 "nbformat_minor": 2
}
