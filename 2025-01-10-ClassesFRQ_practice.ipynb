{
 "cells": [
  {
   "cell_type": "markdown",
   "metadata": {},
   "source": [
    "---\n",
    "layout: post\n",
    "toc: true\n",
    "title: FRQ Teaching | Classes | Practice\n",
    "description: Lesson for class FRQs\n",
    "categories: [AP CSA]\n",
    "menu: nav/FRQ_teach/p1-classes.html\n",
    "author: Ian Wu, Trevor Huang, Alisha Hussain\n",
    "permalink: /csa/p1-frq-classes/homework\n",
    "---"
   ]
  },
  {
   "cell_type": "markdown",
   "metadata": {
    "vscode": {
     "languageId": "java"
    }
   },
   "source": [
    "# Homework\n",
    "Your homework is to submit do question 2 of the [2021 FRQ](https://apcentral.collegeboard.org/media/pdf/ap21-frq-computer-science-a.pdf). Please submit your original answer to the FRQ and your score and then your corrections. This is graded based on your reflection, so give yourself an honest chance at seeing where you are at in classes!"
   ]
  },
  {
   "cell_type": "code",
   "execution_count": 14,
   "metadata": {
    "vscode": {
     "languageId": "java"
    }
   },
   "outputs": [
    {
     "name": "stdout",
     "output_type": "stream",
     "text": [
      "true\n",
      "false\n",
      "65.0\n",
      "true\n",
      "62.5\n"
     ]
    },
    {
     "data": {
      "text/plain": [
       "67.5"
      ]
     },
     "execution_count": 14,
     "metadata": {},
     "output_type": "execute_result"
    }
   ],
   "source": [
    "public class SingleTable {\n",
    "\n",
    "    private int numSeats;\n",
    "    private int height;\n",
    "    private double viewQuality;\n",
    "\n",
    "    public SingleTable(int numSeats, int height, double viewQuality) {\n",
    "        if (numSeats < 4) {\n",
    "            this.numSeats = 4;\n",
    "        } else {\n",
    "            this.numSeats = numSeats;\n",
    "        }\n",
    "        this.height = height;\n",
    "        this.viewQuality = viewQuality;\n",
    "    }\n",
    "\n",
    "    public int getNumSeats() {\n",
    "        return numSeats;\n",
    "    }\n",
    "\n",
    "    public int getHeight() {\n",
    "        return height;\n",
    "    }\n",
    "\n",
    "    public double getViewQuality() {\n",
    "        return viewQuality;\n",
    "    }\n",
    "\n",
    "    public void setViewQuality(double value) {\n",
    "        this.viewQuality = value;\n",
    "    }\n",
    "}\n",
    "\n",
    "public class CombinedTable {\n",
    "\n",
    "    private int numSeats;\n",
    "    private double desirability;\n",
    "    private SingleTable table1;\n",
    "    private SingleTable table2;\n",
    "\n",
    "    public CombinedTable(SingleTable table1, SingleTable table2) {\n",
    "        this.table1 = table1;\n",
    "        this.table2 = table2;\n",
    "        this.numSeats = table1.getNumSeats() + table2.getNumSeats() - 2;\n",
    "\n",
    "        if (table1.getHeight() == table2.getHeight()) {\n",
    "            this.desirability = (table1.getViewQuality() + table2.getViewQuality()) / 2;\n",
    "        } else {\n",
    "            this.desirability = ((table1.getViewQuality() + table2.getViewQuality()) / 2) - 10;\n",
    "        }\n",
    "    }\n",
    "\n",
    "    public int getNumSeats() {\n",
    "        return numSeats;\n",
    "    }\n",
    "\n",
    "    public double getDesirability() {\n",
    "        if (table1.getHeight() == table2.getHeight()) {\n",
    "            this.desirability = (table1.getViewQuality() + table2.getViewQuality()) / 2;\n",
    "        } else {\n",
    "            this.desirability = ((table1.getViewQuality() + table2.getViewQuality()) / 2) - 10;\n",
    "        }\n",
    "        return desirability;\n",
    "    }\n",
    "\n",
    "    public boolean canSeat(int num) {\n",
    "        return numSeats >= num;\n",
    "    }\n",
    "}\n",
    "\n",
    "\n",
    "SingleTable t1 = new SingleTable(4, 74, 60);\n",
    "SingleTable t2 = new SingleTable(8, 74, 70);\n",
    "SingleTable t3 = new SingleTable(12, 76, 75);\n",
    "\n",
    "CombinedTable c1 = new CombinedTable(t1, t2);\n",
    "System.out.println(c1.canSeat(9));\n",
    "System.out.println(c1.canSeat(11));\n",
    "System.out.println(c1.getDesirability());\n",
    "CombinedTable c2 = new CombinedTable(t2, t3);\n",
    "System.out.println(c2.canSeat(18));\n",
    "System.out.println(c2.getDesirability());\n",
    "t2.setViewQuality(80);\n",
    "c2.getDesirability();\n"
   ]
  },
  {
   "cell_type": "markdown",
   "metadata": {},
   "source": [
    "# reflection\n",
    "My code worked and I believe that I would have gotten all 9 points on this FRQ. \n",
    "\n",
    "My code included all of College Board's requiremnts for a full score and I tested it with the provided test cases, which it passed. \n",
    "\n",
    "One thing I could improve is to not rewrite some pieces of code. In my constructor to get the desiribility of the combined table initially, I calculated the average view. I also had that same block of code in the getDesiribility method. I could have probably just called the getDesiribility method in the constructor itself to make my code cleaner. "
   ]
  },
  {
   "cell_type": "code",
   "execution_count": 16,
   "metadata": {
    "vscode": {
     "languageId": "java"
    }
   },
   "outputs": [
    {
     "name": "stdout",
     "output_type": "stream",
     "text": [
      "true\n",
      "false\n",
      "65.0\n",
      "true\n",
      "62.5\n"
     ]
    },
    {
     "data": {
      "text/plain": [
       "67.5"
      ]
     },
     "execution_count": 16,
     "metadata": {},
     "output_type": "execute_result"
    }
   ],
   "source": [
    "// Revised Version:\n",
    "\n",
    "\n",
    "public class SingleTable {\n",
    "\n",
    "    private int numSeats;\n",
    "    private int height;\n",
    "    private double viewQuality;\n",
    "\n",
    "    public SingleTable(int numSeats, int height, double viewQuality) {\n",
    "        if (numSeats < 4) {\n",
    "            this.numSeats = 4;\n",
    "        } else {\n",
    "            this.numSeats = numSeats;\n",
    "        }\n",
    "        this.height = height;\n",
    "        this.viewQuality = viewQuality;\n",
    "    }\n",
    "\n",
    "    public int getNumSeats() {\n",
    "        return numSeats;\n",
    "    }\n",
    "\n",
    "    public int getHeight() {\n",
    "        return height;\n",
    "    }\n",
    "\n",
    "    public double getViewQuality() {\n",
    "        return viewQuality;\n",
    "    }\n",
    "\n",
    "    public void setViewQuality(double value) {\n",
    "        this.viewQuality = value;\n",
    "    }\n",
    "}\n",
    "\n",
    "public class CombinedTable {\n",
    "\n",
    "    private int numSeats;\n",
    "    private double desirability;\n",
    "    private SingleTable table1;\n",
    "    private SingleTable table2;\n",
    "\n",
    "    public CombinedTable(SingleTable table1, SingleTable table2) {\n",
    "        this.table1 = table1;\n",
    "        this.table2 = table2;\n",
    "        this.numSeats = table1.getNumSeats() + table2.getNumSeats() - 2;\n",
    "        this.desirability = getDesirability();\n",
    "    }\n",
    "\n",
    "    public int getNumSeats() {\n",
    "        return numSeats;\n",
    "    }\n",
    "\n",
    "    public double getDesirability() {\n",
    "        if (table1.getHeight() == table2.getHeight()) {\n",
    "            this.desirability = (table1.getViewQuality() + table2.getViewQuality()) / 2;\n",
    "        } else {\n",
    "            this.desirability = ((table1.getViewQuality() + table2.getViewQuality()) / 2) - 10;\n",
    "        }\n",
    "        return desirability;\n",
    "    }\n",
    "\n",
    "    public boolean canSeat(int num) {\n",
    "        return numSeats >= num;\n",
    "    }\n",
    "}\n",
    "\n",
    "\n",
    "SingleTable t1 = new SingleTable(4, 74, 60);\n",
    "SingleTable t2 = new SingleTable(8, 74, 70);\n",
    "SingleTable t3 = new SingleTable(12, 76, 75);\n",
    "\n",
    "CombinedTable c1 = new CombinedTable(t1, t2);\n",
    "System.out.println(c1.canSeat(9));\n",
    "System.out.println(c1.canSeat(11));\n",
    "System.out.println(c1.getDesirability());\n",
    "CombinedTable c2 = new CombinedTable(t2, t3);\n",
    "System.out.println(c2.canSeat(18));\n",
    "System.out.println(c2.getDesirability());\n",
    "t2.setViewQuality(80);\n",
    "c2.getDesirability();\n"
   ]
  },
  {
   "cell_type": "code",
   "execution_count": null,
   "metadata": {
    "vscode": {
     "languageId": "java"
    }
   },
   "outputs": [],
   "source": []
  },
  {
   "cell_type": "code",
   "execution_count": null,
   "metadata": {
    "vscode": {
     "languageId": "java"
    }
   },
   "outputs": [],
   "source": [
    "public class MultPractice implements StudyPractice {\n",
    "    private int first;\n",
    "    private int second;\n",
    "\n",
    "    public MultPractice(int first, int second) {\n",
    "        this.first = first;\n",
    "        this.second = second;\n",
    "    }\n",
    "\n",
    "    @Override\n",
    "    public String getProblem() {\n",
    "        return first + \" TIMES \" + second;\n",
    "    }\n",
    "\n",
    "    @Override\n",
    "    public void nextProblem() {\n",
    "        second++;\n",
    "    }\n",
    "}"
   ]
  }
 ],
 "metadata": {
  "kernelspec": {
   "display_name": "Java",
   "language": "java",
   "name": "java"
  },
  "language_info": {
   "codemirror_mode": "java",
   "file_extension": ".jshell",
   "mimetype": "text/x-java-source",
   "name": "Java",
   "pygments_lexer": "java",
   "version": "17.0.12+7-Ubuntu-1ubuntu222.04"
  }
 },
 "nbformat": 4,
 "nbformat_minor": 2
}
